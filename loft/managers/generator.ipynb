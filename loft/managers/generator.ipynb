{
 "cells": [
  {
   "cell_type": "code",
   "execution_count": 9,
   "metadata": {},
   "outputs": [
    {
     "name": "stdout",
     "output_type": "stream",
     "text": [
      "Test case 1: 41{>}4{<}6{<}{_}{_}1{>}{<}6{_}{<}2{^}{^}{_}74{<}{_}9629{_}6{^}{>}313{<}{_}2{_}4{<}{^}7{^}4\n",
      "Test case 2: {>}99{<}42{>}1{^}2{<}8{^}3663{>}{<}{_}6\n",
      "Test case 3: {_}{>}{^}{_}{>}2{^}{>}{^}714{>}9{^}519855{^}9{>}{>}9{^}{<}{^}{_}{<}7{_}58{_}{_}{<}9{>}{^}{<}{>}{^}{>}6{^}284\n",
      "Test case 4: 8{^}{_}9{>}{^}{>}35{<}{_}5{>}{>}{_}{>}{<}1{<}13{<}2{_}{<}{^}35{^}8{<}{>}951{<}{_}{>}{^}378{<}{^}4\n",
      "Test case 5: {_}4{^}476164{>}{^}5628{^}4{<}9{<}{^}1{_}{_}{^}{_}6{<}8167{<}\n",
      "{'Test Case 0': '41{>}4{<}6{<}{_}{_}1{>}{<}6{_}{<}2{^}{^}{_}74{<}{_}9629{_}6{^}{>}313{<}{_}2{_}4{<}{^}7{^}4', 'Test Case 1': '{>}99{<}42{>}1{^}2{<}8{^}3663{>}{<}{_}6', 'Test Case 2': '{_}{>}{^}{_}{>}2{^}{>}{^}714{>}9{^}519855{^}9{>}{>}9{^}{<}{^}{_}{<}7{_}58{_}{_}{<}9{>}{^}{<}{>}{^}{>}6{^}284', 'Test Case 3': '8{^}{_}9{>}{^}{>}35{<}{_}5{>}{>}{_}{>}{<}1{<}13{<}2{_}{<}{^}35{^}8{<}{>}951{<}{_}{>}{^}378{<}{^}4', 'Test Case 4': '{_}4{^}476164{>}{^}5628{^}4{<}9{<}{^}1{_}{_}{^}{_}6{<}8167{<}'}\n"
     ]
    }
   ],
   "source": [
    "import random\n",
    "\n",
    "def generate_test_cases(num_cases, min_len, max_len):\n",
    "    test_cases = []\n",
    "    commands = ['{_}', '{^}', '{<}', '{>}']\n",
    "    \n",
    "    for _ in range(num_cases):\n",
    "        input_len = random.randint(min_len, max_len)\n",
    "        input_string = r\"\"\n",
    "        \n",
    "        for _ in range(input_len):\n",
    "            if random.random() < 0.5:   # Adjust the probability of digits\n",
    "                                        #vs. commands (0.5 should mean 50% chance of a digit)\n",
    "                input_string += str(random.randint(1, 9))\n",
    "            else:\n",
    "                input_string += random.choice(commands)\n",
    "        \n",
    "        test_cases.append(input_string)\n",
    "    \n",
    "    return test_cases\n",
    "\n",
    "num_cases = 5\n",
    "min_len = 20\n",
    "max_len = 50\n",
    "\n",
    "test_cases = generate_test_cases(num_cases, min_len, max_len)\n",
    "test_dict = {}\n",
    "for i, test_case in enumerate(test_cases):\n",
    "    test_dict[f\"Test Case {i}\"] = test_case\n",
    "    print(f\"Test case {i + 1}: {test_case}\")\n",
    "\n",
    "print(test_dict)"
   ]
  }
 ],
 "metadata": {
  "kernelspec": {
   "display_name": "Python 3",
   "language": "python",
   "name": "python3"
  },
  "language_info": {
   "codemirror_mode": {
    "name": "ipython",
    "version": 3
   },
   "file_extension": ".py",
   "mimetype": "text/x-python",
   "name": "python",
   "nbconvert_exporter": "python",
   "pygments_lexer": "ipython3",
   "version": "3.11.2"
  },
  "orig_nbformat": 4
 },
 "nbformat": 4,
 "nbformat_minor": 2
}
