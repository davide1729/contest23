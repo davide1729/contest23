{
 "cells": [
  {
   "cell_type": "code",
   "execution_count": 1,
   "metadata": {},
   "outputs": [
    {
     "name": "stdout",
     "output_type": "stream",
     "text": [
      "Test: {_}6\n",
      "Expected: [[], [6]]\n",
      "Result: [[], [6]]\n",
      "Passed: True\n",
      "\n"
     ]
    }
   ],
   "source": [
    "# Leonardo Azzi, Soluzione v1:\n",
    "# FINAL SOLUTION\n",
    "\n",
    "def decoder(test):\n",
    "    matrix = {0 : []}\n",
    "    cursor_index = [0, 0]\n",
    "    for i in test:\n",
    "        if i == '{' or i == '}':\n",
    "            continue\n",
    "        elif i == '_':\n",
    "            cursor_index[0] += 1\n",
    "            matrix[cursor_index[0]] = matrix.get(cursor_index[0], [])\n",
    "            cursor_index[1] = min(len(matrix.get(cursor_index[0], [])), cursor_index[1])\n",
    "            #Se necessario, implementare un cap massimo di \"profondità\" (usa min(max_depth, cursor_index[0] + 1))\n",
    "        elif i == '^':\n",
    "            cursor_index[0] = max(0, cursor_index[0] - 1)\n",
    "            matrix[cursor_index[0]] = matrix.get(cursor_index[0], [])\n",
    "            cursor_index[1] = min(len(matrix.get(cursor_index[0], [])), cursor_index[1])\n",
    "        elif i == '>':\n",
    "            cursor_index[1] = min(len(matrix.get(cursor_index[0], [])), cursor_index[1] + 1)\n",
    "        elif i == '<':\n",
    "            cursor_index[1] = max(0, cursor_index[1] - 1)\n",
    "            #print(f\"Cursor index: {cursor_index[1]}\")\n",
    "        elif i.isdigit():\n",
    "            matrix[cursor_index[0]] = matrix.get(cursor_index[0], [])\n",
    "            matrix[cursor_index[0]].insert(cursor_index[1], int(i))\n",
    "            cursor_index[1] += 1\n",
    "            #print(matrix)\n",
    "    result = []\n",
    "    for n in range(len(matrix)):\n",
    "        result.append(matrix.get(n, []))\n",
    "    return result\n",
    "\n",
    "small_test_list = {\n",
    "            # r\"1{>}2{_}3{>}4{<}5{>}6{<}7{>}8{<}9\" : [[1,2],[3,5,4,7,6,9,8]],\n",
    "            # r\"1{>}23{_}4{>}56{_}7{>}89\" : [[1, 2, 3], [4, 5, 6], [7, 8, 9]],\n",
    "            # r\"1{_}23{^}4{_}56{^}7{_}89\" : [[1, 4, 7], [2, 3, 5, 8, 9, 6]],\n",
    "            # r\"1{>}2{>}3{<}{_}4{>}5{>}6{<}{_}7{>}8{>}9\" : [[1, 2, 3], [4, 5, 6], [7, 8, 9]],\n",
    "            # r\"{>}78{_}49{<}{^}{>}2{_}{_}789879626{<}7{>}{_}{<}{<}67581332{<}73997276754{^}{>}55\" : [[7, 8, 2],[4, 9],[7, 8, 9, 8, 7, 9, 6, 2, 7, 6, 5, 5],[6, 7, 5, 8, 1, 3, 3, 7, 3, 9, 9, 7, 2, 7, 6, 7, 5, 4, 2,]],\n",
    "            # r\"{_}{_}{_}{_}{_}{_}{_}{_}{_}{_}{_}{_}{_}{_}{_}{_}{_}{_}{_}{_}{_}{_}{_}{_}{_}{_}{_}{_}{_}{_}{_}{_}{_}{_}{_}{_}{_}{_}{_}{_}{_}{_}{_}{_}{_}{_}{_}{_}{_}{_}{_}{_}{_}{_}{_}{_}{_}{_}{_}{_}{_}{_}{_}{_}{_}{_}{_}{_}{_}{_}{_}{_}{_}{_}{_}{_}{_}{_}{_}{_}{_}{_}{_}{_}{_}{_}{_}{_}{_}{_}{_}{_}{_}{_}{_}\" : [[] for x in range(95)]\n",
    "            r\"{_}6\" : [[], [6]]\n",
    "            }\n",
    "\n",
    "for tests in small_test_list:\n",
    "    print(f\"Test: {tests}\")\n",
    "    print(f\"Expected: {small_test_list[tests]}\")\n",
    "    print(f\"Result: {decoder(tests)}\")\n",
    "    print(f\"Passed: {decoder(tests) == small_test_list[tests]}\")\n",
    "    print()"
   ]
  },
  {
   "cell_type": "code",
   "execution_count": 2,
   "metadata": {},
   "outputs": [
    {
     "ename": "ValueError",
     "evalue": "invalid literal for int() with base 10: ''",
     "output_type": "error",
     "traceback": [
      "\u001b[1;31m---------------------------------------------------------------------------\u001b[0m",
      "\u001b[1;31mValueError\u001b[0m                                Traceback (most recent call last)",
      "Cell \u001b[1;32mIn[2], line 1\u001b[0m\n\u001b[1;32m----> 1\u001b[0m T \u001b[39m=\u001b[39m \u001b[39mint\u001b[39;49m(\u001b[39minput\u001b[39;49m()) \u001b[39m# numero di casi di test\u001b[39;00m\n\u001b[0;32m      3\u001b[0m \u001b[39mdef\u001b[39;00m \u001b[39mdecoder\u001b[39m(test):\n\u001b[0;32m      4\u001b[0m     matrix \u001b[39m=\u001b[39m {}\n",
      "\u001b[1;31mValueError\u001b[0m: invalid literal for int() with base 10: ''"
     ]
    }
   ],
   "source": [
    "T = int(input()) # numero di casi di test\n",
    "\n",
    "def decoder(test):\n",
    "    matrix = {}\n",
    "    cursor_index = [0, 0]\n",
    "    for i in test:\n",
    "        if i == '{' or i == '}':\n",
    "            continue\n",
    "        elif i == '_':\n",
    "            cursor_index[0] = cursor_index[0] + 1\n",
    "            matrix[cursor_index[0]] = matrix.get(cursor_index[0], [])\n",
    "            cursor_index[1] = min(len(matrix[cursor_index[0]]), cursor_index[1])\n",
    "            #Se necessario, implementare un cap massimo di \"profondità\" (usa min(max_depth, cursor_index[0] + 1))\n",
    "        elif i == '^':\n",
    "            cursor_index[0] = max(0, cursor_index[0] - 1)\n",
    "            matrix[cursor_index[0]] = matrix.get(cursor_index[0], [])\n",
    "            cursor_index[1] = min(len(matrix[cursor_index[0]]), cursor_index[1])\n",
    "        elif i == '>':\n",
    "            cursor_index[1] = min(len(matrix[cursor_index[0]]), cursor_index[1] + 1)\n",
    "        elif i == '<':\n",
    "            cursor_index[1] = max(0, cursor_index[1] - 1)\n",
    "        elif i.isdigit():\n",
    "            matrix[cursor_index[0]] = matrix.get(cursor_index[0], [])\n",
    "            matrix[cursor_index[0]].insert(cursor_index[1], int(i))\n",
    "            cursor_index[1] += 1\n",
    "    result = []\n",
    "    for n in range(len(matrix)):\n",
    "        result.append(matrix[n])\n",
    "    return result\n",
    "\n",
    "for t in range(T):\n",
    "    input() # spazio\n",
    "    test = input()\n",
    "    print(f\"Case #{t+1}: {decoder(test)}\")"
   ]
  },
  {
   "cell_type": "code",
   "execution_count": 17,
   "metadata": {},
   "outputs": [],
   "source": [
    "# Leonardo Azzi, Soluzione v1:\n",
    "# Possible changes:\n",
    "#   import blist?\n",
    "#   use a list of lists instead of a dict?  (dict is faster, but list is more memory efficient)\n",
    "\n",
    "def decoder(test):\n",
    "    matrix = {}\n",
    "    cursor_index = [0, 0]\n",
    "    for i in test:\n",
    "        if i == '{' or i == '}':\n",
    "            continue\n",
    "        elif i == '_':\n",
    "            cursor_index[0] = cursor_index[0] + 1\n",
    "            matrix[cursor_index[0]] = matrix.get(cursor_index[0], [])\n",
    "            cursor_index[1] = min(len(matrix.get(cursor_index[0], [])), cursor_index[1])\n",
    "            #Se necessario, implementare un cap massimo di \"profondità\" (usa min(max_depth, cursor_index[0] + 1))\n",
    "        elif i == '^':\n",
    "            cursor_index[0] = max(0, cursor_index[0] - 1)\n",
    "            matrix[cursor_index[0]] = matrix.get(cursor_index[0], [])\n",
    "            cursor_index[1] = min(len(matrix.get(cursor_index[0], [])), cursor_index[1])\n",
    "        elif i == '>':\n",
    "            cursor_index[1] = min(len(matrix.get(cursor_index[0], [])), cursor_index[1] + 1)\n",
    "        elif i == '<':\n",
    "            cursor_index[1] = max(0, cursor_index[1] - 1)\n",
    "            #print(f\"Cursor index: {cursor_index[1]}\")\n",
    "        elif i.isdigit():\n",
    "            matrix[cursor_index[0]] = matrix.get(cursor_index[0], [])\n",
    "            matrix[cursor_index[0]].insert(cursor_index[1], int(i))\n",
    "            cursor_index[1] += 1\n",
    "            #print(matrix)\n",
    "    result = []\n",
    "    for n in range(len(matrix)):\n",
    "        result.append(matrix[n])\n",
    "    return result\n",
    "\n",
    "small_test_list = {\n",
    "            # r\"1{>}2{_}3{>}4{<}5{>}6{<}7{>}8{<}9\" : [[1,2],[3,5,4,7,6,9,8]],\n",
    "            # r\"1{>}23{_}4{>}56{_}7{>}89\" : [[1, 2, 3], [4, 5, 6], [7, 8, 9]],\n",
    "            # r\"1{_}23{^}4{_}56{^}7{_}89\" : [[1, 4, 7], [2, 3, 5, 8, 9, 6]],\n",
    "            # r\"1{>}2{>}3{<}{_}4{>}5{>}6{<}{_}7{>}8{>}9\" : [[1, 2, 3], [4, 5, 6], [7, 8, 9]],\n",
    "            # r\"{>}78{_}49{<}{^}{>}2{_}{_}789879626{<}7{>}{_}{<}{<}67581332{<}73997276754{^}{>}55\" : [[7, 8, 2],[4, 9],[7, 8, 9, 8, 7, 9, 6, 2, 7, 6, 5, 5],[6, 7, 5, 8, 1, 3, 3, 7, 3, 9, 9, 7, 2, 7, 6, 7, 5, 4, 2,]],\n",
    "            }\n",
    "\n",
    "for tests in small_test_list:\n",
    "    print(f\"Test: {tests}\")\n",
    "    print(f\"Expected: {small_test_list[tests]}\")\n",
    "    print(f\"Result: {decoder(tests)}\")\n",
    "    print(f\"Passed: {decoder(tests) == small_test_list[tests]}\")\n",
    "    print()"
   ]
  },
  {
   "cell_type": "code",
   "execution_count": 15,
   "metadata": {},
   "outputs": [
    {
     "name": "stdout",
     "output_type": "stream",
     "text": [
      "Test: {>}78{_}49{<}{^}{>}2{_}{_}789879626{<}7{>}{_}{<}{<}67581332{<}73997276754{^}{>}55\n",
      "Expected: [[], [], [], [], [], [], [], [], [], [], [], [], [], [], [], [], [], [], [], [], [], [], [], [], [], [], [], [], [], [], [], [], [], [], [], [], [], [], [], [], [], [], [], [], [], [], [], [], [], [], [], [], [], [], [], [], [], [], [], [], [], [], [], [], [], [], [], [], [], [], [], [], [], [], [], [], [], [], [], [], [], [], [], [], [], [], [], [], [], [], [], [], [], [], [], [], [], [], [], [], [], [], [], [], [], [], [], [], [], [], [], [], [], [], [], [], [], [], [], [], [], [], [], [], [], [], [], [], [], [], [], [], [], [], [], [], [], [], [], [], [], [], [], [], [], [], [], [], [], [], [], [], [], [], [], [], [], [], [], [], [], [], [], [], [], [], [], [], [], [], [], [], [], [], [], [], [], [], [], [], [], [], [], [], [], [], [], [], [], [], [], [], [], [], [], [], [], [], [], [], [], [], [], [], [], [], [], [], [], [], [], [], [], [], [], [], [], [], [], [], [], [], [], [], [], [], [], [], [], [], [], [], [], [], [], [], [], [], [], [], [], [], [], [], [], [], [], [], [], [], [], [], [], [], [], [], [], [], [], [], [], [], [], [], [], [], [], [], [], [], [], [], [], [], [], [], [], [], [], [], [], [], [], [], []]\n",
      "Result: [[7, 8, 2], [4, 9], [7, 8, 9, 8, 7, 9, 6, 2, 7, 6, 5, 5], [6, 7, 5, 8, 1, 3, 3, 7, 3, 9, 9, 7, 2, 7, 6, 7, 5, 4, 2]]\n",
      "Passed: False\n",
      "\n"
     ]
    }
   ],
   "source": [
    "small_test_list = {\n",
    "            # r\"1{>}2{_}3{>}4{<}5{>}6{<}7{>}8{<}9\" : [[1,2],[3,5,4,7,6,9,8]],\n",
    "            # r\"1{>}23{_}4{>}56{_}7{>}89\" : [[1, 2, 3], [4, 5, 6], [7, 8, 9]],\n",
    "            # r\"1{_}23{^}4{_}56{^}7{_}89\" : [[1, 4, 7], [2, 3, 5, 8, 9, 6]],\n",
    "            # r\"1{>}2{>}3{<}{_}4{>}5{>}6{<}{_}7{>}8{>}9\" : [[1, 2, 3], [4, 5, 6], [7, 8, 9]],\n",
    "            r\"{>}78{_}49{<}{^}{>}2{_}{_}789879626{<}7{>}{_}{<}{<}67581332{<}73997276754{^}{>}55\" : [[7, 8, 2],[4, 9],[7, 8, 9, 8, 7, 9, 6, 2, 7, 6, 5, 5],[6, 7, 5, 8, 1, 3, 3, 7, 3, 9, 9, 7, 2, 7, 6, 7, 5, 4, 2,]],\n",
    "            }\n",
    "\n",
    "for tests in small_test_list:\n",
    "    print(f\"Test: {tests}\")\n",
    "    print(f\"Expected: {small_test_list[tests]}\")\n",
    "    print(f\"Result: {decoder(tests)}\")\n",
    "    print(f\"Passed: {decoder(tests) == small_test_list[tests]}\")\n",
    "    print()"
   ]
  },
  {
   "cell_type": "code",
   "execution_count": 36,
   "metadata": {},
   "outputs": [
    {
     "name": "stdout",
     "output_type": "stream",
     "text": [
      "95\n"
     ]
    }
   ],
   "source": [
    "s = r\"{_}{_}{_}{_}{_}{_}{_}{_}{_}{_}{_}{_}{_}{_}{_}{_}{_}{_}{_}{_}{_}{_}{_}{_}{_}{_}{_}{_}{_}{_}{_}{_}{_}{_}{_}{_}{_}{_}{_}{_}{_}{_}{_}{_}{_}{_}{_}{_}{_}{_}{_}{_}{_}{_}{_}{_}{_}{_}{_}{_}{_}{_}{_}{_}{_}{_}{_}{_}{_}{_}{_}{_}{_}{_}{_}{_}{_}{_}{_}{_}{_}{_}{_}{_}{_}{_}{_}{_}{_}{_}{_}{_}{_}{_}{_}\"\n",
    "s = s.replace(\"{\", \"\").replace(\"}\", \"\")\n",
    "print(len(s))"
   ]
  }
 ],
 "metadata": {
  "kernelspec": {
   "display_name": "Python 3",
   "language": "python",
   "name": "python3"
  },
  "language_info": {
   "codemirror_mode": {
    "name": "ipython",
    "version": 3
   },
   "file_extension": ".py",
   "mimetype": "text/x-python",
   "name": "python",
   "nbconvert_exporter": "python",
   "pygments_lexer": "ipython3",
   "version": "3.11.2"
  },
  "orig_nbformat": 4
 },
 "nbformat": 4,
 "nbformat_minor": 2
}
