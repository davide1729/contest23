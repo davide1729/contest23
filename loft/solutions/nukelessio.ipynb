{
 "cells": [
  {
   "cell_type": "code",
   "execution_count": 2,
   "metadata": {},
   "outputs": [],
   "source": [
    "# Leonardo Azzi, Soluzione v1:\n",
    "# Possible changes:\n",
    "#   import blist?\n",
    "#   use a list of lists instead of a dict?  (dict is faster, but list is more memory efficient)\n",
    "\n",
    "def decoder(test):\n",
    "    matrix = {}\n",
    "    cursor_index = [0, 0]\n",
    "    for i in test:\n",
    "        if i == '{' or i == '}':\n",
    "            continue\n",
    "        elif i == '_':\n",
    "            cursor_index[0] = cursor_index[0] + 1\n",
    "            matrix[cursor_index[0]] = matrix.get(cursor_index[0], [])\n",
    "            cursor_index[1] = min(len(matrix[cursor_index[0]]), cursor_index[1])\n",
    "            #Se necessario, implementare un cap massimo di \"profondità\" (usa min(max_depth, cursor_index[0] + 1))\n",
    "        elif i == '^':\n",
    "            cursor_index[0] = max(0, cursor_index[0] - 1)\n",
    "            matrix[cursor_index[0]] = matrix.get(cursor_index[0], [])\n",
    "            cursor_index[1] = min(len(matrix[cursor_index[0]]), cursor_index[1])\n",
    "        elif i == '>':\n",
    "            cursor_index[1] = min(len(matrix[cursor_index[0]]), cursor_index[1] + 1)\n",
    "        elif i == '<':\n",
    "            cursor_index[1] = max(0, cursor_index[1] - 1)\n",
    "            #print(f\"Cursor index: {cursor_index[1]}\")\n",
    "        elif i.isdigit():\n",
    "            matrix[cursor_index[0]] = matrix.get(cursor_index[0], [])\n",
    "            matrix[cursor_index[0]].insert(cursor_index[1], int(i))\n",
    "            cursor_index[1] += 1\n",
    "            #print(matrix)\n",
    "    result = []\n",
    "    for n in range(len(matrix)):\n",
    "        result.append(matrix[n])\n",
    "    return result"
   ]
  },
  {
   "cell_type": "code",
   "execution_count": null,
   "metadata": {},
   "outputs": [],
   "source": [
    "small_test_list = {\n",
    "            r\"1{>}2{_}3{>}4{<}5{>}6{<}7{>}8{<}9\" : [[1,2],[3,5,4,7,6,9,8]],\n",
    "            r\"1{>}23{_}4{>}56{_}7{>}89\" : [[1, 2, 3], [4, 5, 6], [7, 8, 9]],\n",
    "            r\"1{_}23{^}4{_}56{^}7{_}89\" : [[1, 4, 7], [2, 3, 5, 8, 9, 6]],\n",
    "            r\"1{>}2{>}3{<}{_}4{>}5{>}6{<}{_}7{>}8{>}9\" : [[1, 2, 3], [4, 5, 6], [7, 8, 9]]\n",
    "            }\n",
    "\n",
    "for tests in small_test_list:\n",
    "    print(f\"Test: {tests}\")\n",
    "    print(f\"Expected: {small_test_list[tests]}\")\n",
    "    print(f\"Result: {decoder(tests)}\")\n",
    "    print(f\"Passed: {decoder(tests) == small_test_list[tests]}\")\n",
    "    print()"
   ]
  }
 ],
 "metadata": {
  "kernelspec": {
   "display_name": "Python 3",
   "language": "python",
   "name": "python3"
  },
  "language_info": {
   "codemirror_mode": {
    "name": "ipython",
    "version": 3
   },
   "file_extension": ".py",
   "mimetype": "text/x-python",
   "name": "python",
   "nbconvert_exporter": "python",
   "pygments_lexer": "ipython3",
   "version": "3.11.2"
  },
  "orig_nbformat": 4
 },
 "nbformat": 4,
 "nbformat_minor": 2
}
